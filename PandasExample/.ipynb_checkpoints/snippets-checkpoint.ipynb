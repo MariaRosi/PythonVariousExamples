{
 "cells": [
  {
   "cell_type": "code",
   "execution_count": 1,
   "id": "d3639880-cf0b-4d96-8381-6099e978ab1e",
   "metadata": {},
   "outputs": [],
   "source": [
    "import pandas as pd"
   ]
  },
  {
   "cell_type": "code",
   "execution_count": 2,
   "id": "150c8ec1-dd99-465c-8633-387da0855f12",
   "metadata": {},
   "outputs": [],
   "source": [
    "people_data = {\n",
    "    \"first\": [\"Sam\", \"Jack\", \"Samir\", \"Arun\"],\n",
    "    \"last\": [\"Das\", \"Smith\", \"Khan\", \"Banerjee\"],\n",
    "    \"email\": [\"sam.das@gmail.com\", \"jack.smith@gmail.com\", \"samir.khan@gmail.com\", \"arun.banerjee@gmail.com\"]\n",
    "}"
   ]
  },
  {
   "cell_type": "code",
   "execution_count": 3,
   "id": "34c190db-5fb6-4f9f-a0f0-8bb527c87e47",
   "metadata": {},
   "outputs": [],
   "source": [
    "df = pd.DataFrame(people_data)"
   ]
  },
  {
   "cell_type": "code",
   "execution_count": 4,
   "id": "9b3af344-bd5c-4f96-93f5-c04de502a617",
   "metadata": {},
   "outputs": [
    {
     "data": {
      "text/html": [
       "<div>\n",
       "<style scoped>\n",
       "    .dataframe tbody tr th:only-of-type {\n",
       "        vertical-align: middle;\n",
       "    }\n",
       "\n",
       "    .dataframe tbody tr th {\n",
       "        vertical-align: top;\n",
       "    }\n",
       "\n",
       "    .dataframe thead th {\n",
       "        text-align: right;\n",
       "    }\n",
       "</style>\n",
       "<table border=\"1\" class=\"dataframe\">\n",
       "  <thead>\n",
       "    <tr style=\"text-align: right;\">\n",
       "      <th></th>\n",
       "      <th>first</th>\n",
       "      <th>last</th>\n",
       "      <th>email</th>\n",
       "    </tr>\n",
       "  </thead>\n",
       "  <tbody>\n",
       "    <tr>\n",
       "      <th>0</th>\n",
       "      <td>Sam</td>\n",
       "      <td>Das</td>\n",
       "      <td>sam.das@gmail.com</td>\n",
       "    </tr>\n",
       "    <tr>\n",
       "      <th>1</th>\n",
       "      <td>Jack</td>\n",
       "      <td>Smith</td>\n",
       "      <td>jack.smith@gmail.com</td>\n",
       "    </tr>\n",
       "    <tr>\n",
       "      <th>2</th>\n",
       "      <td>Samir</td>\n",
       "      <td>Khan</td>\n",
       "      <td>samir.khan@gmail.com</td>\n",
       "    </tr>\n",
       "    <tr>\n",
       "      <th>3</th>\n",
       "      <td>Arun</td>\n",
       "      <td>Banerjee</td>\n",
       "      <td>arun.banerjee@gmail.com</td>\n",
       "    </tr>\n",
       "  </tbody>\n",
       "</table>\n",
       "</div>"
      ],
      "text/plain": [
       "   first      last                    email\n",
       "0    Sam       Das        sam.das@gmail.com\n",
       "1   Jack     Smith     jack.smith@gmail.com\n",
       "2  Samir      Khan     samir.khan@gmail.com\n",
       "3   Arun  Banerjee  arun.banerjee@gmail.com"
      ]
     },
     "execution_count": 4,
     "metadata": {},
     "output_type": "execute_result"
    }
   ],
   "source": [
    "df"
   ]
  },
  {
   "cell_type": "code",
   "execution_count": 5,
   "id": "042539d0-c16b-490d-bc29-eff556928e1e",
   "metadata": {},
   "outputs": [
    {
     "data": {
      "text/plain": [
       "0          sam.das@gmail.com\n",
       "1       jack.smith@gmail.com\n",
       "2       samir.khan@gmail.com\n",
       "3    arun.banerjee@gmail.com\n",
       "Name: email, dtype: object"
      ]
     },
     "execution_count": 5,
     "metadata": {},
     "output_type": "execute_result"
    }
   ],
   "source": [
    "df['email']"
   ]
  },
  {
   "cell_type": "code",
   "execution_count": 6,
   "id": "9d160e84-22ff-4ed2-9f1d-97b7928a9f6f",
   "metadata": {},
   "outputs": [
    {
     "data": {
      "text/plain": [
       "pandas.core.series.Series"
      ]
     },
     "execution_count": 6,
     "metadata": {},
     "output_type": "execute_result"
    }
   ],
   "source": [
    "type(df['email'])"
   ]
  },
  {
   "cell_type": "code",
   "execution_count": 7,
   "id": "68301baa-c21e-4edb-88df-fe8513d40fbb",
   "metadata": {},
   "outputs": [
    {
     "data": {
      "text/plain": [
       "Index(['first', 'last', 'email'], dtype='object')"
      ]
     },
     "execution_count": 7,
     "metadata": {},
     "output_type": "execute_result"
    }
   ],
   "source": [
    "df.columns"
   ]
  },
  {
   "cell_type": "code",
   "execution_count": 8,
   "id": "dbcc3a04-e1a6-4255-a6cf-a0e1579a9caa",
   "metadata": {},
   "outputs": [
    {
     "data": {
      "text/plain": [
       "first                  Sam\n",
       "last                   Das\n",
       "email    sam.das@gmail.com\n",
       "Name: 0, dtype: object"
      ]
     },
     "execution_count": 8,
     "metadata": {},
     "output_type": "execute_result"
    }
   ],
   "source": [
    "df.iloc[[0, 1], [0,2]]"
   ]
  },
  {
   "cell_type": "code",
   "execution_count": null,
   "id": "10cc1b15-d7f4-473d-b53b-db0c245bbe78",
   "metadata": {},
   "outputs": [],
   "source": []
  }
 ],
 "metadata": {
  "kernelspec": {
   "display_name": "Python 3 (ipykernel)",
   "language": "python",
   "name": "python3"
  },
  "language_info": {
   "codemirror_mode": {
    "name": "ipython",
    "version": 3
   },
   "file_extension": ".py",
   "mimetype": "text/x-python",
   "name": "python",
   "nbconvert_exporter": "python",
   "pygments_lexer": "ipython3",
   "version": "3.12.3"
  }
 },
 "nbformat": 4,
 "nbformat_minor": 5
}
