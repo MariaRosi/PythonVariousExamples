{
 "cells": [
  {
   "cell_type": "code",
   "execution_count": 1,
   "id": "af6d687c-45e5-43ba-aec6-7213fdd934b0",
   "metadata": {},
   "outputs": [],
   "source": [
    "import pandas as pd"
   ]
  },
  {
   "cell_type": "code",
   "execution_count": 2,
   "id": "eed46c9b-9f13-4b07-b43a-ac1b6975bd2c",
   "metadata": {},
   "outputs": [],
   "source": [
    "people_data = {\n",
    "    \"first\": [\"Sam\", \"Jack\", \"Samir\", \"Arun\", \"Rajesh\", \"Naina\"],\n",
    "    \"last\": [\"Das\", \"Smith\", \"Khan\", \"Banerjee\", \"Oleti\", \"Sen\"],\n",
    "    \"email\": [\"sam.das@gmail.com\", \"jack.smith@gmail.com\", \"samir.khan@gmail.com\", \"arun.banerjee@gmail.com\", \"rajesh.oleti@gmail.com\", \"naina.sen@gmail.com\"]\n",
    "}"
   ]
  },
  {
   "cell_type": "code",
   "execution_count": 3,
   "id": "6489e0a2-727d-4c0b-b174-96b0719a895d",
   "metadata": {},
   "outputs": [],
   "source": [
    "df = pd.DataFrame(people_data)"
   ]
  },
  {
   "cell_type": "code",
   "execution_count": 4,
   "id": "435e7d58-29d7-4e6a-9e97-30274818c361",
   "metadata": {},
   "outputs": [
    {
     "data": {
      "text/html": [
       "<div>\n",
       "<style scoped>\n",
       "    .dataframe tbody tr th:only-of-type {\n",
       "        vertical-align: middle;\n",
       "    }\n",
       "\n",
       "    .dataframe tbody tr th {\n",
       "        vertical-align: top;\n",
       "    }\n",
       "\n",
       "    .dataframe thead th {\n",
       "        text-align: right;\n",
       "    }\n",
       "</style>\n",
       "<table border=\"1\" class=\"dataframe\">\n",
       "  <thead>\n",
       "    <tr style=\"text-align: right;\">\n",
       "      <th></th>\n",
       "      <th>first</th>\n",
       "      <th>last</th>\n",
       "      <th>email</th>\n",
       "    </tr>\n",
       "  </thead>\n",
       "  <tbody>\n",
       "    <tr>\n",
       "      <th>0</th>\n",
       "      <td>Sam</td>\n",
       "      <td>Das</td>\n",
       "      <td>sam.das@gmail.com</td>\n",
       "    </tr>\n",
       "    <tr>\n",
       "      <th>1</th>\n",
       "      <td>Jack</td>\n",
       "      <td>Smith</td>\n",
       "      <td>jack.smith@gmail.com</td>\n",
       "    </tr>\n",
       "    <tr>\n",
       "      <th>2</th>\n",
       "      <td>Samir</td>\n",
       "      <td>Khan</td>\n",
       "      <td>samir.khan@gmail.com</td>\n",
       "    </tr>\n",
       "    <tr>\n",
       "      <th>3</th>\n",
       "      <td>Arun</td>\n",
       "      <td>Banerjee</td>\n",
       "      <td>arun.banerjee@gmail.com</td>\n",
       "    </tr>\n",
       "    <tr>\n",
       "      <th>4</th>\n",
       "      <td>Rajesh</td>\n",
       "      <td>Oleti</td>\n",
       "      <td>rajesh.oleti@gmail.com</td>\n",
       "    </tr>\n",
       "    <tr>\n",
       "      <th>5</th>\n",
       "      <td>Naina</td>\n",
       "      <td>Sen</td>\n",
       "      <td>naina.sen@gmail.com</td>\n",
       "    </tr>\n",
       "  </tbody>\n",
       "</table>\n",
       "</div>"
      ],
      "text/plain": [
       "    first      last                    email\n",
       "0     Sam       Das        sam.das@gmail.com\n",
       "1    Jack     Smith     jack.smith@gmail.com\n",
       "2   Samir      Khan     samir.khan@gmail.com\n",
       "3    Arun  Banerjee  arun.banerjee@gmail.com\n",
       "4  Rajesh     Oleti   rajesh.oleti@gmail.com\n",
       "5   Naina       Sen      naina.sen@gmail.com"
      ]
     },
     "execution_count": 4,
     "metadata": {},
     "output_type": "execute_result"
    }
   ],
   "source": [
    "df"
   ]
  },
  {
   "cell_type": "code",
   "execution_count": 7,
   "id": "b83a59ae-db47-4f7e-9f32-3a6a75521e9f",
   "metadata": {},
   "outputs": [
    {
     "data": {
      "text/html": [
       "<div>\n",
       "<style scoped>\n",
       "    .dataframe tbody tr th:only-of-type {\n",
       "        vertical-align: middle;\n",
       "    }\n",
       "\n",
       "    .dataframe tbody tr th {\n",
       "        vertical-align: top;\n",
       "    }\n",
       "\n",
       "    .dataframe thead th {\n",
       "        text-align: right;\n",
       "    }\n",
       "</style>\n",
       "<table border=\"1\" class=\"dataframe\">\n",
       "  <thead>\n",
       "    <tr style=\"text-align: right;\">\n",
       "      <th></th>\n",
       "      <th>first</th>\n",
       "      <th>last</th>\n",
       "      <th>email</th>\n",
       "    </tr>\n",
       "  </thead>\n",
       "  <tbody>\n",
       "    <tr>\n",
       "      <th>1</th>\n",
       "      <td>Jack</td>\n",
       "      <td>Smith</td>\n",
       "      <td>jack.smith@gmail.com</td>\n",
       "    </tr>\n",
       "    <tr>\n",
       "      <th>5</th>\n",
       "      <td>Naina</td>\n",
       "      <td>Sen</td>\n",
       "      <td>naina.sen@gmail.com</td>\n",
       "    </tr>\n",
       "    <tr>\n",
       "      <th>4</th>\n",
       "      <td>Rajesh</td>\n",
       "      <td>Oleti</td>\n",
       "      <td>rajesh.oleti@gmail.com</td>\n",
       "    </tr>\n",
       "    <tr>\n",
       "      <th>2</th>\n",
       "      <td>Samir</td>\n",
       "      <td>Khan</td>\n",
       "      <td>samir.khan@gmail.com</td>\n",
       "    </tr>\n",
       "    <tr>\n",
       "      <th>0</th>\n",
       "      <td>Sam</td>\n",
       "      <td>Das</td>\n",
       "      <td>sam.das@gmail.com</td>\n",
       "    </tr>\n",
       "    <tr>\n",
       "      <th>3</th>\n",
       "      <td>Arun</td>\n",
       "      <td>Banerjee</td>\n",
       "      <td>arun.banerjee@gmail.com</td>\n",
       "    </tr>\n",
       "  </tbody>\n",
       "</table>\n",
       "</div>"
      ],
      "text/plain": [
       "    first      last                    email\n",
       "1    Jack     Smith     jack.smith@gmail.com\n",
       "5   Naina       Sen      naina.sen@gmail.com\n",
       "4  Rajesh     Oleti   rajesh.oleti@gmail.com\n",
       "2   Samir      Khan     samir.khan@gmail.com\n",
       "0     Sam       Das        sam.das@gmail.com\n",
       "3    Arun  Banerjee  arun.banerjee@gmail.com"
      ]
     },
     "execution_count": 7,
     "metadata": {},
     "output_type": "execute_result"
    }
   ],
   "source": [
    "df.sort_values(by='last', ascending=False)\n"
   ]
  },
  {
   "cell_type": "code",
   "execution_count": 8,
   "id": "e9338904-88fe-488c-963e-a4e697257ad3",
   "metadata": {},
   "outputs": [
    {
     "data": {
      "text/html": [
       "<div>\n",
       "<style scoped>\n",
       "    .dataframe tbody tr th:only-of-type {\n",
       "        vertical-align: middle;\n",
       "    }\n",
       "\n",
       "    .dataframe tbody tr th {\n",
       "        vertical-align: top;\n",
       "    }\n",
       "\n",
       "    .dataframe thead th {\n",
       "        text-align: right;\n",
       "    }\n",
       "</style>\n",
       "<table border=\"1\" class=\"dataframe\">\n",
       "  <thead>\n",
       "    <tr style=\"text-align: right;\">\n",
       "      <th></th>\n",
       "      <th>first</th>\n",
       "      <th>last</th>\n",
       "      <th>email</th>\n",
       "    </tr>\n",
       "  </thead>\n",
       "  <tbody>\n",
       "    <tr>\n",
       "      <th>1</th>\n",
       "      <td>Jack</td>\n",
       "      <td>Smith</td>\n",
       "      <td>jack.smith@gmail.com</td>\n",
       "    </tr>\n",
       "    <tr>\n",
       "      <th>5</th>\n",
       "      <td>Naina</td>\n",
       "      <td>Sen</td>\n",
       "      <td>naina.sen@gmail.com</td>\n",
       "    </tr>\n",
       "    <tr>\n",
       "      <th>4</th>\n",
       "      <td>Rajesh</td>\n",
       "      <td>Oleti</td>\n",
       "      <td>rajesh.oleti@gmail.com</td>\n",
       "    </tr>\n",
       "    <tr>\n",
       "      <th>2</th>\n",
       "      <td>Samir</td>\n",
       "      <td>Khan</td>\n",
       "      <td>samir.khan@gmail.com</td>\n",
       "    </tr>\n",
       "    <tr>\n",
       "      <th>0</th>\n",
       "      <td>Sam</td>\n",
       "      <td>Das</td>\n",
       "      <td>sam.das@gmail.com</td>\n",
       "    </tr>\n",
       "    <tr>\n",
       "      <th>3</th>\n",
       "      <td>Arun</td>\n",
       "      <td>Banerjee</td>\n",
       "      <td>arun.banerjee@gmail.com</td>\n",
       "    </tr>\n",
       "  </tbody>\n",
       "</table>\n",
       "</div>"
      ],
      "text/plain": [
       "    first      last                    email\n",
       "1    Jack     Smith     jack.smith@gmail.com\n",
       "5   Naina       Sen      naina.sen@gmail.com\n",
       "4  Rajesh     Oleti   rajesh.oleti@gmail.com\n",
       "2   Samir      Khan     samir.khan@gmail.com\n",
       "0     Sam       Das        sam.das@gmail.com\n",
       "3    Arun  Banerjee  arun.banerjee@gmail.com"
      ]
     },
     "execution_count": 8,
     "metadata": {},
     "output_type": "execute_result"
    }
   ],
   "source": [
    "df.sort_values(by=['last', 'first'], ascending=False)"
   ]
  },
  {
   "cell_type": "code",
   "execution_count": 15,
   "id": "d94ec59b-208c-4446-97b9-5545ed2b37d3",
   "metadata": {},
   "outputs": [],
   "source": [
    "df.sort_values(by=['last', 'first'], ascending=[True, True], inplace=True)"
   ]
  },
  {
   "cell_type": "code",
   "execution_count": 11,
   "id": "9cb0db80-bd8f-459d-888e-781f78e1a4b5",
   "metadata": {},
   "outputs": [
    {
     "data": {
      "text/html": [
       "<div>\n",
       "<style scoped>\n",
       "    .dataframe tbody tr th:only-of-type {\n",
       "        vertical-align: middle;\n",
       "    }\n",
       "\n",
       "    .dataframe tbody tr th {\n",
       "        vertical-align: top;\n",
       "    }\n",
       "\n",
       "    .dataframe thead th {\n",
       "        text-align: right;\n",
       "    }\n",
       "</style>\n",
       "<table border=\"1\" class=\"dataframe\">\n",
       "  <thead>\n",
       "    <tr style=\"text-align: right;\">\n",
       "      <th></th>\n",
       "      <th>first</th>\n",
       "      <th>last</th>\n",
       "      <th>email</th>\n",
       "    </tr>\n",
       "  </thead>\n",
       "  <tbody>\n",
       "    <tr>\n",
       "      <th>1</th>\n",
       "      <td>Jack</td>\n",
       "      <td>Smith</td>\n",
       "      <td>jack.smith@gmail.com</td>\n",
       "    </tr>\n",
       "    <tr>\n",
       "      <th>5</th>\n",
       "      <td>Naina</td>\n",
       "      <td>Sen</td>\n",
       "      <td>naina.sen@gmail.com</td>\n",
       "    </tr>\n",
       "    <tr>\n",
       "      <th>4</th>\n",
       "      <td>Rajesh</td>\n",
       "      <td>Oleti</td>\n",
       "      <td>rajesh.oleti@gmail.com</td>\n",
       "    </tr>\n",
       "    <tr>\n",
       "      <th>2</th>\n",
       "      <td>Samir</td>\n",
       "      <td>Khan</td>\n",
       "      <td>samir.khan@gmail.com</td>\n",
       "    </tr>\n",
       "    <tr>\n",
       "      <th>0</th>\n",
       "      <td>Sam</td>\n",
       "      <td>Das</td>\n",
       "      <td>sam.das@gmail.com</td>\n",
       "    </tr>\n",
       "    <tr>\n",
       "      <th>3</th>\n",
       "      <td>Arun</td>\n",
       "      <td>Banerjee</td>\n",
       "      <td>arun.banerjee@gmail.com</td>\n",
       "    </tr>\n",
       "  </tbody>\n",
       "</table>\n",
       "</div>"
      ],
      "text/plain": [
       "    first      last                    email\n",
       "1    Jack     Smith     jack.smith@gmail.com\n",
       "5   Naina       Sen      naina.sen@gmail.com\n",
       "4  Rajesh     Oleti   rajesh.oleti@gmail.com\n",
       "2   Samir      Khan     samir.khan@gmail.com\n",
       "0     Sam       Das        sam.das@gmail.com\n",
       "3    Arun  Banerjee  arun.banerjee@gmail.com"
      ]
     },
     "execution_count": 11,
     "metadata": {},
     "output_type": "execute_result"
    }
   ],
   "source": [
    "df"
   ]
  },
  {
   "cell_type": "code",
   "execution_count": 13,
   "id": "7bf3c61e-cce5-4806-afea-8b3e34a5d8fc",
   "metadata": {},
   "outputs": [
    {
     "data": {
      "text/html": [
       "<div>\n",
       "<style scoped>\n",
       "    .dataframe tbody tr th:only-of-type {\n",
       "        vertical-align: middle;\n",
       "    }\n",
       "\n",
       "    .dataframe tbody tr th {\n",
       "        vertical-align: top;\n",
       "    }\n",
       "\n",
       "    .dataframe thead th {\n",
       "        text-align: right;\n",
       "    }\n",
       "</style>\n",
       "<table border=\"1\" class=\"dataframe\">\n",
       "  <thead>\n",
       "    <tr style=\"text-align: right;\">\n",
       "      <th></th>\n",
       "      <th>first</th>\n",
       "      <th>last</th>\n",
       "      <th>email</th>\n",
       "    </tr>\n",
       "  </thead>\n",
       "  <tbody>\n",
       "    <tr>\n",
       "      <th>0</th>\n",
       "      <td>Sam</td>\n",
       "      <td>Das</td>\n",
       "      <td>sam.das@gmail.com</td>\n",
       "    </tr>\n",
       "    <tr>\n",
       "      <th>1</th>\n",
       "      <td>Jack</td>\n",
       "      <td>Smith</td>\n",
       "      <td>jack.smith@gmail.com</td>\n",
       "    </tr>\n",
       "    <tr>\n",
       "      <th>2</th>\n",
       "      <td>Samir</td>\n",
       "      <td>Khan</td>\n",
       "      <td>samir.khan@gmail.com</td>\n",
       "    </tr>\n",
       "    <tr>\n",
       "      <th>3</th>\n",
       "      <td>Arun</td>\n",
       "      <td>Banerjee</td>\n",
       "      <td>arun.banerjee@gmail.com</td>\n",
       "    </tr>\n",
       "    <tr>\n",
       "      <th>4</th>\n",
       "      <td>Rajesh</td>\n",
       "      <td>Oleti</td>\n",
       "      <td>rajesh.oleti@gmail.com</td>\n",
       "    </tr>\n",
       "    <tr>\n",
       "      <th>5</th>\n",
       "      <td>Naina</td>\n",
       "      <td>Sen</td>\n",
       "      <td>naina.sen@gmail.com</td>\n",
       "    </tr>\n",
       "  </tbody>\n",
       "</table>\n",
       "</div>"
      ],
      "text/plain": [
       "    first      last                    email\n",
       "0     Sam       Das        sam.das@gmail.com\n",
       "1    Jack     Smith     jack.smith@gmail.com\n",
       "2   Samir      Khan     samir.khan@gmail.com\n",
       "3    Arun  Banerjee  arun.banerjee@gmail.com\n",
       "4  Rajesh     Oleti   rajesh.oleti@gmail.com\n",
       "5   Naina       Sen      naina.sen@gmail.com"
      ]
     },
     "execution_count": 13,
     "metadata": {},
     "output_type": "execute_result"
    }
   ],
   "source": [
    "df.sort_index()"
   ]
  },
  {
   "cell_type": "code",
   "execution_count": 14,
   "id": "46f6b8f7-643e-4ac3-8f99-bafae6ad8b7b",
   "metadata": {},
   "outputs": [
    {
     "data": {
      "text/plain": [
       "3    Banerjee\n",
       "0         Das\n",
       "2        Khan\n",
       "4       Oleti\n",
       "5         Sen\n",
       "1       Smith\n",
       "Name: last, dtype: object"
      ]
     },
     "execution_count": 14,
     "metadata": {},
     "output_type": "execute_result"
    }
   ],
   "source": [
    "df['last'].sort_values()"
   ]
  },
  {
   "cell_type": "code",
   "execution_count": null,
   "id": "88d66de9-4164-4eeb-b50b-c18eb700f37c",
   "metadata": {},
   "outputs": [],
   "source": []
  }
 ],
 "metadata": {
  "kernelspec": {
   "display_name": "Python 3 (ipykernel)",
   "language": "python",
   "name": "python3"
  },
  "language_info": {
   "codemirror_mode": {
    "name": "ipython",
    "version": 3
   },
   "file_extension": ".py",
   "mimetype": "text/x-python",
   "name": "python",
   "nbconvert_exporter": "python",
   "pygments_lexer": "ipython3",
   "version": "3.12.3"
  }
 },
 "nbformat": 4,
 "nbformat_minor": 5
}
